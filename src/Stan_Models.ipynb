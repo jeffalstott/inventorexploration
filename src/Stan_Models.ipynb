{
 "cells": [
  {
   "cell_type": "code",
   "execution_count": 1,
   "metadata": {
    "collapsed": true
   },
   "outputs": [],
   "source": [
    "# data_directory = '../data/'\n",
    "# from os import path\n",
    "# abs_path_data_directory = path.abspath(data_directory)+'/'\n",
    "\n",
    "# cmdstan_directory = path.abspath('cmdstan-2.9.0/')+'/'"
   ]
  },
  {
   "cell_type": "code",
   "execution_count": 2,
   "metadata": {
    "collapsed": true
   },
   "outputs": [],
   "source": [
    "from os import system, makedirs\n",
    "def create_directory_if_not_existing(f):\n",
    "    try:\n",
    "        makedirs(f)\n",
    "    except OSError:\n",
    "        pass    \n",
    "    \n",
    "model_directory = abs_path_data_directory+'Performance_Models/'\n",
    "create_directory_if_not_existing(model_directory)"
   ]
  },
  {
   "cell_type": "code",
   "execution_count": 3,
   "metadata": {
    "collapsed": true
   },
   "outputs": [],
   "source": [
    "with open(model_directory+'single_counts_sampling_model.stan', 'w') as f:\n",
    "    f.write(\"\"\"\n",
    "data {\n",
    "  int<lower=1> N;                // number of data points\n",
    "  int<lower=0> y[N];   // outcomes\n",
    "  int<lower=1> K;                // number parameters \n",
    "  matrix[N,K] x;                 // individual predictors\n",
    "  vector[N] baseline; \n",
    "}\n",
    "\n",
    "parameters {\n",
    "  vector[K] beta;\n",
    "  real<lower=0> mu_phi;\n",
    "  real<lower=0> var_phi;\n",
    "  real<lower=0> phi;\n",
    "}\n",
    "\n",
    "model {\n",
    "  beta ~ normal(0,2);\n",
    "  mu_phi ~ normal(0,2);//cauchy(0,2.5);\n",
    "  var_phi ~ normal(0,2); //cauchy(0,2.5);\n",
    "  phi ~ gamma(mu_phi^2/var_phi,mu_phi/var_phi);\n",
    "  y ~ neg_binomial_2_log(x*beta + log(baseline), phi);  \n",
    "}\"\"\"\n",
    "           )"
   ]
  },
  {
   "cell_type": "code",
   "execution_count": 17,
   "metadata": {
    "collapsed": true
   },
   "outputs": [],
   "source": [
    "with open(model_directory+'joint_counts_sampling_model.stan', 'w') as f:\n",
    "    f.write(\"\"\"\n",
    "data {\n",
    "  int<lower=1> M;   // number of outcomes\n",
    "  int<lower=1> N;                // number of data points\n",
    "  int<lower=0> y[M,N];   // outcomes\n",
    "  int<lower=1> K;                // number parameters \n",
    "  matrix[N,K] x;                 // individual predictors\n",
    "  matrix[M,N] baseline; \n",
    "}\n",
    "\n",
    "parameters {\n",
    "  matrix[K,M] beta;\n",
    "  vector<lower=0>[M] mu_phi;\n",
    "  vector<lower=0>[M] var_phi;\n",
    "  vector<lower=0>[M] phi;\n",
    "  \n",
    "  vector[M] z;\n",
    "  cholesky_factor_corr[M] L_Omega;\n",
    "  vector<lower=0>[M] tau;\n",
    "}\n",
    "\n",
    "model {\n",
    "  vector[M] eta;\n",
    "  \n",
    "  z ~ normal(0,1);\n",
    "  tau ~ cauchy(0,2.5);\n",
    "  L_Omega ~ lkj_corr_cholesky(2);\n",
    "\n",
    "  to_vector(beta) ~ normal(0,2);\n",
    "  mu_phi ~ normal(0,2);//cauchy(0,2.5);\n",
    "  var_phi ~ normal(0,2); //cauchy(0,2.5);\n",
    "    \n",
    "  \n",
    "  for (m in 1:M){\n",
    "      phi[m] ~ gamma(mu_phi[m]^2/var_phi[m],mu_phi[m]/var_phi[m]);\n",
    "  }\n",
    "  \n",
    "  for (n in 1:N){\n",
    "      eta <- (x[n]*beta + (diag_pre_multiply(tau,L_Omega)*z)')';\n",
    "      for (m in 1:M) {\n",
    "          y[m, n] ~ neg_binomial_2_log(eta[m]+log(baseline[m,n]), phi[m]);\n",
    "      }\n",
    "  }\n",
    "}\"\"\"\n",
    "           )"
   ]
  },
  {
   "cell_type": "code",
   "execution_count": 4,
   "metadata": {
    "collapsed": true
   },
   "outputs": [],
   "source": [
    "with open(model_directory+'hits_sampling_model.stan', 'w') as f:\n",
    "    f.write(\"\"\"\n",
    "data {\n",
    "  int<lower=1> N;                // number of data points\n",
    "  int<lower=0, upper=1> y[N];   // outcomes\n",
    "  int<lower=1> K;                // number parameters \n",
    "  matrix[N,K] x;                 // individual predictors\n",
    "}\n",
    "\n",
    "parameters {\n",
    "  vector[K] beta;\n",
    "}\n",
    "\n",
    "model {\n",
    "  beta ~ normal(0,5);\n",
    "  y ~ bernoulli_logit(x*beta);  \n",
    "}\"\"\"\n",
    "           )"
   ]
  },
  {
   "cell_type": "code",
   "execution_count": 15,
   "metadata": {
    "collapsed": false
   },
   "outputs": [
    {
     "data": {
      "text/plain": [
       "0"
      ]
     },
     "execution_count": 15,
     "metadata": {},
     "output_type": "execute_result"
    }
   ],
   "source": [
    "from os import system\n",
    "\n",
    "system(\"make -C %s %s\"%(cmdstan_directory,\n",
    "                       model_directory+'single_counts_sampling_model'))\n",
    "\n",
    "system(\"make -C %s %s\"%(cmdstan_directory,\n",
    "                       model_directory+'joint_counts_sampling_model'))\n",
    "\n",
    "system(\"make -C %s %s\"%(cmdstan_directory,\n",
    "                       model_directory+'hits_sampling_model'))"
   ]
  }
 ],
 "metadata": {
  "anaconda-cloud": {},
  "kernelspec": {
   "display_name": "Python [default]",
   "language": "python",
   "name": "python3"
  },
  "language_info": {
   "codemirror_mode": {
    "name": "ipython",
    "version": 3
   },
   "file_extension": ".py",
   "mimetype": "text/x-python",
   "name": "python",
   "nbconvert_exporter": "python",
   "pygments_lexer": "ipython3",
   "version": "3.5.2"
  }
 },
 "nbformat": 4,
 "nbformat_minor": 0
}
