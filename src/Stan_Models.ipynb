{
 "cells": [
  {
   "cell_type": "code",
   "execution_count": 1,
   "metadata": {
    "collapsed": true
   },
   "outputs": [],
   "source": [
    "# data_directory = '../data/'\n",
    "# from os import path\n",
    "# abs_path_data_directory = path.abspath(data_directory)+'/'\n",
    "\n",
    "# cmdstan_directory = path.abspath('cmdstan-2.9.0/')+'/'"
   ]
  },
  {
   "cell_type": "code",
   "execution_count": 14,
   "metadata": {
    "collapsed": true
   },
   "outputs": [],
   "source": [
    "from os import system, makedirs\n",
    "def create_directory_if_not_existing(f):\n",
    "    try:\n",
    "        makedirs(f)\n",
    "    except OSError:\n",
    "        pass    \n",
    "    \n",
    "model_directory = abs_path_data_directory+'Performance_Models/'\n",
    "create_directory_if_not_existing(model_directory)"
   ]
  },
  {
   "cell_type": "code",
   "execution_count": 3,
   "metadata": {
    "collapsed": true
   },
   "outputs": [],
   "source": [
    "with open(model_directory+'single_counts_sampling_model.stan', 'w') as f:\n",
    "    f.write(\"\"\"\n",
    "data {\n",
    "  int<lower=1> N;                // number of data points\n",
    "  int<lower=0> y[N];   // outcomes\n",
    "  int<lower=1> K;                // number parameters \n",
    "  matrix[N,K] x;                 // individual predictors\n",
    "  vector[N] baseline; \n",
    "}\n",
    "\n",
    "parameters {\n",
    "  vector[K] beta;\n",
    "  real<lower=0> mu_phi;\n",
    "  real<lower=0> var_phi;\n",
    "  real<lower=0> phi;\n",
    "}\n",
    "\n",
    "model {\n",
    "  beta ~ normal(0,2);\n",
    "  mu_phi ~ normal(0,2);//cauchy(0,2.5);\n",
    "  var_phi ~ normal(0,2); //cauchy(0,2.5);\n",
    "  phi ~ gamma(mu_phi^2/var_phi,mu_phi/var_phi);\n",
    "  y ~ neg_binomial_2_log(x*beta + log(baseline), phi);  \n",
    "}\"\"\"\n",
    "           )"
   ]
  },
  {
   "cell_type": "code",
   "execution_count": 4,
   "metadata": {
    "collapsed": true
   },
   "outputs": [],
   "source": [
    "with open(model_directory+'hits_sampling_model.stan', 'w') as f:\n",
    "    f.write(\"\"\"\n",
    "data {\n",
    "  int<lower=1> N;                // number of data points\n",
    "  int<lower=0, upper=1> y[N];   // outcomes\n",
    "  int<lower=1> K;                // number parameters \n",
    "  matrix[N,K] x;                 // individual predictors\n",
    "}\n",
    "\n",
    "parameters {\n",
    "  vector[K] beta;\n",
    "}\n",
    "\n",
    "model {\n",
    "  beta ~ normal(0,5);\n",
    "  y ~ bernoulli_logit(x*beta);  \n",
    "}\"\"\"\n",
    "           )"
   ]
  },
  {
   "cell_type": "code",
   "execution_count": 15,
   "metadata": {
    "collapsed": false
   },
   "outputs": [
    {
     "data": {
      "text/plain": [
       "0"
      ]
     },
     "execution_count": 15,
     "metadata": {},
     "output_type": "execute_result"
    }
   ],
   "source": [
    "from os import system\n",
    "\n",
    "system(\"make -C %s %s\"%(cmdstan_directory,\n",
    "                       model_directory+'single_counts_sampling_model'))\n",
    "\n",
    "system(\"make -C %s %s\"%(cmdstan_directory,\n",
    "                       model_directory+'hits_sampling_model'))"
   ]
  }
 ],
 "metadata": {
  "kernelspec": {
   "display_name": "Python 3",
   "language": "python",
   "name": "python3"
  },
  "language_info": {
   "codemirror_mode": {
    "name": "ipython",
    "version": 3
   },
   "file_extension": ".py",
   "mimetype": "text/x-python",
   "name": "python",
   "nbconvert_exporter": "python",
   "pygments_lexer": "ipython3",
   "version": "3.4.3"
  }
 },
 "nbformat": 4,
 "nbformat_minor": 0
}
