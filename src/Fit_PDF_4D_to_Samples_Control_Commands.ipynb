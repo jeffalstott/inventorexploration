{
 "cells": [
  {
   "cell_type": "code",
   "execution_count": 1,
   "metadata": {
    "collapsed": true
   },
   "outputs": [],
   "source": [
    "# class_system = 'IPC4'\n",
    "# data_directory = '../data/'\n",
    "# sample_length = 1000\n",
    "# samples = range(0,773000,sample_length)\n",
    "# rescale_z = True\n",
    "\n",
    "# from os import path\n",
    "# import sys\n",
    "# python_location = path.dirname(sys.executable)+'/python'\n",
    "\n",
    "# from os import path\n",
    "# abs_path_data_directory = path.abspath(data_directory)+'/'"
   ]
  },
  {
   "cell_type": "code",
   "execution_count": null,
   "metadata": {
    "collapsed": true
   },
   "outputs": [],
   "source": [
    "# relatedness_types = [ 'Class_Cites_Class_Count_1_years_percent_positive_all_years_back_mean',\n",
    "#                      'Class_Cited_by_Class_Count_1_years_percent_positive_all_years_back_mean',\n",
    "#                      'Class_CoOccurrence_Count_Inventor_1_years_percent_positive_all_years_back_mean',\n",
    "#                      'Class_CoOccurrence_Count_PID_1_years_percent_positive_all_years_back_mean',\n",
    "#                     ]"
   ]
  },
  {
   "cell_type": "code",
   "execution_count": 4,
   "metadata": {
    "collapsed": true
   },
   "outputs": [],
   "source": [
    "basic_program = open('Fit_PDF_4D_to_Samples.py', 'r').read()"
   ]
  },
  {
   "cell_type": "code",
   "execution_count": 6,
   "metadata": {
    "collapsed": true
   },
   "outputs": [],
   "source": [
    "from os import system\n",
    "\n",
    "for sample_start in samples:\n",
    "    header = \"\"\"#!{2}\n",
    "#PBS -l nodes=1:ppn=1\n",
    "#PBS -l walltime=0:20:00\n",
    "#PBS -l mem=10000m\n",
    "#PBS -N sample_{0}_{1}\n",
    "\"\"\".format(sample_start, class_system, python_location)\n",
    "    \n",
    "    options = \"\"\"sample_start={0}\n",
    "sample_length={1}\n",
    "class_system = '{2}'\n",
    "data_directory = '{3}'\n",
    "rescale_z = {4}\n",
    "relatedness_types = {5}\n",
    "\"\"\".format(sample_start, sample_length,\n",
    "          class_system,\n",
    "          abs_path_data_directory,\n",
    "          rescale_z,\n",
    "           relatedness_types\n",
    "          )\n",
    "\n",
    "    this_program = header+options+basic_program\n",
    "    this_job_file = 'jobfiles/Fit_PDF_sample_{0}_{1}_{2}.py'.format(sample_start, \n",
    "                                                            sample_start+sample_length, \n",
    "                                                            class_system)\n",
    "\n",
    "\n",
    "    f = open(this_job_file, 'w')\n",
    "    f.write(this_program)\n",
    "    f.close()\n",
    "\n",
    "    system('qsub '+this_job_file)"
   ]
  }
 ],
 "metadata": {
  "kernelspec": {
   "display_name": "Python 3",
   "language": "python",
   "name": "python3"
  },
  "language_info": {
   "codemirror_mode": {
    "name": "ipython",
    "version": 3
   },
   "file_extension": ".py",
   "mimetype": "text/x-python",
   "name": "python",
   "nbconvert_exporter": "python",
   "pygments_lexer": "ipython3",
   "version": "3.4.3"
  }
 },
 "nbformat": 4,
 "nbformat_minor": 0
}
