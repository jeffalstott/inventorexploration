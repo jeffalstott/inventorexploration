{
 "cells": [
  {
   "cell_type": "code",
   "execution_count": 1,
   "metadata": {
    "collapsed": true
   },
   "outputs": [],
   "source": [
    "import pandas as pd\n",
    "from pylab import *\n",
    "from time import time"
   ]
  },
  {
   "cell_type": "code",
   "execution_count": 3,
   "metadata": {
    "collapsed": true
   },
   "outputs": [],
   "source": [
    "# class_system = 'IPC4'\n",
    "# data_directory = '../data/'"
   ]
  },
  {
   "cell_type": "code",
   "execution_count": 4,
   "metadata": {
    "collapsed": false
   },
   "outputs": [
    {
     "name": "stdout",
     "output_type": "stream",
     "text": [
      "IPC4\n"
     ]
    }
   ],
   "source": [
    "print(class_system)"
   ]
  },
  {
   "cell_type": "code",
   "execution_count": 5,
   "metadata": {
    "collapsed": false
   },
   "outputs": [
    {
     "name": "stdout",
     "output_type": "stream",
     "text": [
      "Calculating citation data\n"
     ]
    }
   ],
   "source": [
    "print(\"Calculating citation data\") \n",
    "t = time()\n",
    "\n",
    "citations_store = pd.HDFStore(data_directory+'citations_organized.h5')\n",
    "citations = citations_store['citations']\n",
    "citation_class_lookup = citations_store['%s_class_lookup'%class_system]\n",
    "citations_store.close()\n",
    "\n",
    "citation_class_lookup = citation_class_lookup.reset_index().set_index(0)\n",
    "for column in citations.columns:\n",
    "    if class_system in column:\n",
    "        new_name = column.replace('_'+class_system, \"\")\n",
    "        citations.rename(columns={column: new_name}, inplace=True)"
   ]
  },
  {
   "cell_type": "code",
   "execution_count": 21,
   "metadata": {
    "collapsed": true
   },
   "outputs": [],
   "source": [
    "store = pd.HDFStore(data_directory+'patent_class_citation_count.h5')\n",
    "if class_system not in store:\n",
    "    patent_class_citation_count = citations.groupby('Citing_Patent')['Class_Cited_Patent'].value_counts()\n",
    "    store[class_system] = patent_class_citation_count\n",
    "    store['class_lookup_table_%s'%class_system] = citation_class_lookup\n",
    "    print(time()-t)\n",
    "store.close()"
   ]
  },
  {
   "cell_type": "code",
   "execution_count": 41,
   "metadata": {
    "collapsed": true
   },
   "outputs": [],
   "source": [
    "store = pd.HDFStore(data_directory+'class_citation_counts.h5')\n",
    "if class_system not in store:\n",
    "    a = set(citations['Class_Citing_Patent'].dropna().unique())\n",
    "    b = set(citations['Class_Cited_Patent'].dropna().unique())\n",
    "    all_classes = sort(list(a.union(b)))\n",
    "    all_years = sort(citations['Year_Citing_Patent'].unique())\n",
    "    citation_counts = pd.DataFrame(index=pd.MultiIndex.from_product((all_classes, all_years),\n",
    "                                                                   names=['Class_ID', 'Issued_Year']))\n",
    "\n",
    "    for citation_type, class_column in [('Outward', 'Class_Citing_Patent'),\n",
    "                                        ('Inward', 'Class_Cited_Patent')]:    \n",
    "        count_by_year = citations.groupby([class_column, 'Year_Citing_Patent'])['Citing_Patent'].count().sort_index()\n",
    "        cumulative_count_by_year = count_by_year.groupby(level=class_column).cumsum()\n",
    "        citation_counts['Class_%s_Citation_Count'%citation_type] = count_by_year\n",
    "        citation_counts['Class_Cumulative_%s_Citation_Count'%citation_type] = cumulative_count_by_year\n",
    "    store[class_system] = citation_counts.reset_index()\n",
    "    store['class_lookup_table_%s'%class_system] = citation_class_lookup\n",
    "store.close()"
   ]
  },
  {
   "cell_type": "code",
   "execution_count": null,
   "metadata": {
    "collapsed": true
   },
   "outputs": [],
   "source": [
    "# class_citations_dict = {}\n",
    "\n",
    "# for citation_type, class_column in [('Outward', 'Class_Citing_Patent'),\n",
    "#                                     ('Inward', 'Class_Cited_Patent')]:\n",
    "#     count_by_year = citations.groupby([class_column, 'Year_Citing_Patent'])['Citing_Patent'].count().sort_index()\n",
    "#     cumulative_count_by_year = count_by_year.groupby(level=class_column).cumsum().reset_index()\n",
    "#     count_by_year = count_by_year.reset_index()\n",
    "\n",
    "#     class_citations_dict['Class_%s_Citation_Count'%citation_type] = count_by_year.reset_index().rename(columns={class_column:'Class_ID',\n",
    "#                                                                                                                                 'Citing_Patent': 'Count'})\n",
    "#     class_citations_dict['Class_Cumulative_%s_Citation_Count'%citation_type] = cumulative_count_by_year.rename(columns={0:'Count',\n",
    "#                                                                                                                                          class_column:'Class_ID'})\n",
    "# for k in class_citations_dict.keys():\n",
    "#     class_citations_dict[k].rename(columns={'Year_Citing_Patent': 'Issued_Year'}, inplace=True)\n",
    "\n",
    "#     #The stored citations data may have a different class_lookup index than we have calculated here\n",
    "#     #so we convert it to ours.\n",
    "#     class_citations_dict[k]['Class_ID'] = classes_lookup.set_index('Class_Name').ix[citation_class_lookup.ix[\n",
    "#             class_citations_dict[k]['Class_ID']]['index']]['Class_ID'].values"
   ]
  },
  {
   "cell_type": "code",
   "execution_count": null,
   "metadata": {
    "collapsed": true
   },
   "outputs": [],
   "source": [
    "store = pd.HDFStore(data_directory+'patent_class_citation_count.h5')\n",
    "if class_system not in store:\n",
    "    store[class_system] = patent_class_citation_count\n",
    "    store['class_lookup_table_%s'%class_system] = citation_class_lookup\n",
    "    print(time()-t)\n",
    "store.close()"
   ]
  },
  {
   "cell_type": "code",
   "execution_count": 7,
   "metadata": {
    "collapsed": false
   },
   "outputs": [
    {
     "name": "stdout",
     "output_type": "stream",
     "text": [
      "Calculating agent-patent relationships\n"
     ]
    }
   ],
   "source": [
    "print(\"Calculating agent-patent relationships\")\n",
    "t = time()"
   ]
  },
  {
   "cell_type": "code",
   "execution_count": 8,
   "metadata": {
    "collapsed": false
   },
   "outputs": [
    {
     "name": "stderr",
     "output_type": "stream",
     "text": [
      "/home/jeffrey_alstott/anaconda3/lib/python3.4/site-packages/pandas/core/frame.py:2524: SettingWithCopyWarning: \n",
      "A value is trying to be set on a copy of a slice from a DataFrame\n",
      "\n",
      "See the the caveats in the documentation: http://pandas.pydata.org/pandas-docs/stable/indexing.html#indexing-view-versus-copy\n",
      "  **kwargs)\n",
      "/home/jeffrey_alstott/anaconda3/lib/python3.4/site-packages/pandas/util/decorators.py:88: SettingWithCopyWarning: \n",
      "A value is trying to be set on a copy of a slice from a DataFrame\n",
      "\n",
      "See the the caveats in the documentation: http://pandas.pydata.org/pandas-docs/stable/indexing.html#indexing-view-versus-copy\n",
      "  return func(*args, **kwargs)\n"
     ]
    }
   ],
   "source": [
    "all_inventorships = pd.read_csv(data_directory+'disamb_data_ipc_citations_2.csv')\n",
    "\n",
    "if class_system=='IPC':\n",
    "    temp_class_system = 'IPC3'\n",
    "else:\n",
    "    temp_class_system = class_system\n",
    "    \n",
    "agent_column = 'INVENTOR_ID'\n",
    "\n",
    "all_data = all_inventorships[['PID', agent_column, temp_class_system, \n",
    "                              'APPDATE', 'GYEAR',\n",
    "                             'CITED_CNTS']]\n",
    "\n",
    "all_data.rename(columns={'PID': 'Patent',\n",
    "                     agent_column: 'Agent',\n",
    "                     temp_class_system: 'Class',\n",
    "                     'APPDATE': 'Application_Date',\n",
    "                     'GYEAR': 'Issued_Year',\n",
    "                        'CITED_CNTS': 'Citations'},\n",
    "            inplace=True)\n",
    "\n",
    "all_data.drop_duplicates(inplace=True)\n",
    "\n",
    "del(all_inventorships)\n",
    "\n",
    "all_classes_observed = sort(all_data.Class.unique())\n",
    "n_classes = len(all_classes_observed)\n",
    "\n",
    "classes_lookup = pd.DataFrame(data=all_classes_observed, \n",
    "                              columns=['Class_Name'])\n",
    "classes_lookup['Class_ID'] = classes_lookup.index\n",
    "\n",
    "all_data['Class_ID'] = classes_lookup.set_index('Class_Name').ix[all_data['Class'],'Class_ID'].values\n",
    "\n",
    "all_data.drop(['Class'], axis=1, inplace=True)\n",
    "\n",
    "all_data['Application_Year'] = pd.DatetimeIndex(all_data['Application_Date']).year"
   ]
  },
  {
   "cell_type": "code",
   "execution_count": 1,
   "metadata": {
    "collapsed": false
   },
   "outputs": [],
   "source": [
    "store = pd.HDFStore(data_directory+'agent_patent_relationships.h5')\n",
    "\n",
    "if 'agent_patent_lists' not in store:\n",
    "    agent_patent_lists = all_data.groupby('Agent')['Patent'].apply(lambda x: list(x))\n",
    "    store.put('/agent_patent_lists', agent_patent_lists)\n",
    "    \n",
    "if 'agent_patent_year_lists' not in store:\n",
    "    agent_patent_year_lists = all_data.groupby('Agent')['Issued_Year'].apply(lambda x: list(x))\n",
    "    store.put('/agent_patent_year_lists', agent_patent_year_lists)\n",
    "    \n",
    "if 'patent_agent_lists' not in store:\n",
    "    patent_agent_lists = all_data.groupby('Patent')['Agent'].apply(lambda x: list(x))\n",
    "    store.put('/patent_agent_lists', patent_agent_lists)\n",
    "\n",
    "if 'patent_classes_%s'%class_system not in store:\n",
    "    patent_classes = all_data.drop_duplicates('Patent')[['Patent', 'Application_Year', 'Class_ID']].set_index('Patent')\n",
    "    store.put('/patent_classes_%s'%class_system, patent_classes)\n",
    "    \n",
    "if 'class_lookup_table_%s'%class_system not in store:\n",
    "    store.put('/class_lookup_table_%s'%class_system, classes_lookup)\n",
    "    \n",
    "store.close()\n",
    "print(time()-t)"
   ]
  }
 ],
 "metadata": {
  "css": [
   ""
  ],
  "kernelspec": {
   "display_name": "Python 3",
   "language": "python",
   "name": "python3"
  },
  "language_info": {
   "codemirror_mode": {
    "name": "ipython",
    "version": 3
   },
   "file_extension": ".py",
   "mimetype": "text/x-python",
   "name": "python",
   "nbconvert_exporter": "python",
   "pygments_lexer": "ipython3",
   "version": "3.4.3"
  }
 },
 "nbformat": 4,
 "nbformat_minor": 0
}
