{
 "cells": [
  {
   "cell_type": "code",
   "execution_count": 1,
   "metadata": {
    "collapsed": false
   },
   "outputs": [
    {
     "name": "stdout",
     "output_type": "stream",
     "text": [
      "Populating the interactive namespace from numpy and matplotlib\n"
     ]
    }
   ],
   "source": [
    "# import pandas as pd\n",
    "# %pylab inline"
   ]
  },
  {
   "cell_type": "code",
   "execution_count": 101,
   "metadata": {
    "collapsed": true
   },
   "outputs": [],
   "source": [
    "# data_directory = '../data/'\n",
    "# class_systems = ['IPC', 'IPC4']\n",
    "# all_n_years = ['all', 1, 5]\n",
    "\n",
    "# def create_n_years_label(n_years):\n",
    "#     if n_years is None or n_years=='all' or n_years=='cumulative':\n",
    "#         n_years_label = ''\n",
    "#     else:\n",
    "#         n_years_label = '%i_years_'%n_years\n",
    "#     return n_years_label"
   ]
  },
  {
   "cell_type": "code",
   "execution_count": 93,
   "metadata": {
    "collapsed": true
   },
   "outputs": [],
   "source": [
    "def normalize_out(target, norm_out):\n",
    "    x, y = norm_out.values.ravel(), target.values.ravel()\n",
    "    x = x[y>0]\n",
    "    y = y[y>0]\n",
    "    y_hat = regress(x,y)\n",
    "\n",
    "    norm_y_up = y/y_hat\n",
    "\n",
    "    ####\n",
    "    x, y = norm_out.values.ravel(), target.values.ravel()\n",
    "    x = x[y<0]\n",
    "    y = abs(y[y<0])\n",
    "    y_hat = regress(x,y)\n",
    "    norm_y_down = y/y_hat\n",
    "\n",
    "    target_norm = target.copy()\n",
    "    target_norm.values[target_norm.values>0] = norm_y_up\n",
    "    target_norm.values[target_norm.values<0] = -norm_y_down\n",
    "    return target_norm\n",
    "\n",
    "from scipy.stats import linregress\n",
    "\n",
    "def regress(x,y):\n",
    "    slope, intercept, r, p, stderr = linregress(log(x),log(y))\n",
    "    norm = lambda x: x**slope * exp(intercept)\n",
    "    return norm(x)"
   ]
  },
  {
   "cell_type": "code",
   "execution_count": 97,
   "metadata": {
    "collapsed": true
   },
   "outputs": [],
   "source": [
    "def normalize_out(target, norm_out):\n",
    "    x, y = norm_out.values.ravel(), target.values.ravel()\n",
    "    valid_ind_up = (y>0) & (x>0)\n",
    "    x = x[valid_ind_up]\n",
    "    y = y[valid_ind_up]\n",
    "    y_hat = regress(x,y)\n",
    "\n",
    "    norm_y_up = y/y_hat\n",
    "\n",
    "    ####\n",
    "    x, y = norm_out.values.ravel(), target.values.ravel()\n",
    "    valid_ind_down = (y<0) & (x>0)\n",
    "    x = x[valid_ind_down]\n",
    "    y = abs(y[valid_ind_down])\n",
    "    y_hat = regress(x,y)\n",
    "    norm_y_down = y/y_hat\n",
    "\n",
    "    target_norm = target.copy()\n",
    "    target_norm.values[(target_norm.values>0) & (norm_out.values>0)] = norm_y_up\n",
    "    target_norm.values[(target_norm.values<0) & (norm_out.values>0)] = -norm_y_down\n",
    "    return target_norm\n",
    "\n",
    "from scipy.stats import linregress\n",
    "\n",
    "def regress(x,y):\n",
    "    slope, intercept, r, p, stderr = linregress(log(x),log(y))\n",
    "    norm = lambda x: x**slope * exp(intercept)\n",
    "    return norm(x)"
   ]
  },
  {
   "cell_type": "code",
   "execution_count": 91,
   "metadata": {
    "collapsed": false
   },
   "outputs": [],
   "source": [
    "popularities = pd.HDFStore(data_directory+'popularity_networks.h5')\n",
    "relatedness = pd.HDFStore(data_directory+'Class_Relatedness_Networks/class_relatedness_networks.h5')"
   ]
  },
  {
   "cell_type": "code",
   "execution_count": 102,
   "metadata": {
    "collapsed": false,
    "scrolled": false
   },
   "outputs": [
    {
     "name": "stdout",
     "output_type": "stream",
     "text": [
      "IPC\n",
      "all\n",
      "False\n",
      "1\n",
      "False\n",
      "5\n",
      "False\n",
      "IPC4\n",
      "all\n",
      "False\n",
      "1\n",
      "False\n",
      "5\n",
      "False\n"
     ]
    },
    {
     "name": "stderr",
     "output_type": "stream",
     "text": [
      "/home/jeffrey_alstott/anaconda3/lib/python3.4/site-packages/numpy/core/_methods.py:59: RuntimeWarning: Mean of empty slice.\n",
      "  warnings.warn(\"Mean of empty slice.\", RuntimeWarning)\n",
      "/home/jeffrey_alstott/anaconda3/lib/python3.4/site-packages/numpy/lib/function_base.py:1890: RuntimeWarning: Degrees of freedom <= 0 for slice\n",
      "  warnings.warn(\"Degrees of freedom <= 0 for slice\", RuntimeWarning)\n"
     ]
    }
   ],
   "source": [
    "for class_system in class_systems:\n",
    "    print(class_system)\n",
    "    for n_years in all_n_years:\n",
    "        print(n_years)\n",
    "        n_years_label = create_n_years_label(n_years)\n",
    "        r = relatedness['empirical_z_scores_%s%s'%(n_years_label, class_system)].fillna(0)\n",
    "        p = popularities['patent_count_%s%s'%(n_years_label, class_system)].ix[:,r.major_axis, r.major_axis]\n",
    "        r_regressed = r.copy()\n",
    "        for label in r.labels:\n",
    "            for item in r.items:\n",
    "                r_regressed.ix[label,item] = normalize_out(r.ix[label,item], \n",
    "                                                             p.ix[item])\n",
    "        print(any(r_regressed.isnull()))\n",
    "        relatedness.put('/empirical_z_scores_regressed_%s%s'%(n_years_label,\n",
    "                                                class_system), r_regressed, 'table', append=False)\n",
    "        \n",
    "        "
   ]
  },
  {
   "cell_type": "code",
   "execution_count": 103,
   "metadata": {
    "collapsed": true
   },
   "outputs": [],
   "source": [
    "relatedness.close()\n",
    "popularities.close()"
   ]
  }
 ],
 "metadata": {
  "css": [
   ""
  ],
  "kernelspec": {
   "display_name": "Python 3",
   "language": "python",
   "name": "python3"
  },
  "language_info": {
   "codemirror_mode": {
    "name": "ipython",
    "version": 3
   },
   "file_extension": ".py",
   "mimetype": "text/x-python",
   "name": "python",
   "nbconvert_exporter": "python",
   "pygments_lexer": "ipython3",
   "version": "3.4.3"
  }
 },
 "nbformat": 4,
 "nbformat_minor": 0
}
