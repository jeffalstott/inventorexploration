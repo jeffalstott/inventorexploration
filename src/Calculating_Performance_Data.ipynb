{
 "cells": [
  {
   "cell_type": "code",
   "execution_count": 1,
   "metadata": {
    "collapsed": false,
    "scrolled": false
   },
   "outputs": [],
   "source": [
    "import pandas as pd\n",
    "from pylab import *"
   ]
  },
  {
   "cell_type": "code",
   "execution_count": 2,
   "metadata": {
    "collapsed": true
   },
   "outputs": [],
   "source": [
    "# class_system = 'IPC4'\n",
    "# data_directory = '../data/'"
   ]
  },
  {
   "cell_type": "code",
   "execution_count": 3,
   "metadata": {
    "collapsed": true
   },
   "outputs": [],
   "source": [
    "# target = 'entries'\n",
    "# target = 'entries_with_predictions'\n",
    "# target = 'entries_with_predictions_NB_3D_and_4D'\n",
    "# target = 'entries_with_predictions_3D_Popularity_Citations_CoAuthors'"
   ]
  },
  {
   "cell_type": "code",
   "execution_count": 4,
   "metadata": {
    "collapsed": false
   },
   "outputs": [],
   "source": [
    "store = pd.HDFStore(data_directory+'Agent_Entries/agent_%s_%s.h5'%(target, class_system))\n",
    "entries = store['%s_%s'%(target, class_system)]\n",
    "store.close()"
   ]
  },
  {
   "cell_type": "code",
   "execution_count": 5,
   "metadata": {
    "collapsed": true
   },
   "outputs": [],
   "source": [
    "entries['Application_Year'] = entries['Application_Year'].astype('int')\n",
    "entries['Class_ID'] = entries['Class_ID'].astype('int')"
   ]
  },
  {
   "cell_type": "code",
   "execution_count": 6,
   "metadata": {
    "collapsed": false
   },
   "outputs": [],
   "source": [
    "store = pd.HDFStore(data_directory+'organized_patent_data.h5')\n",
    "agent_lookup = store['agents_lookup_explorers_%s'%class_system]\n",
    "patent_data = store['data_%s'%class_system]\n",
    "store.close()"
   ]
  },
  {
   "cell_type": "code",
   "execution_count": 7,
   "metadata": {
    "collapsed": false
   },
   "outputs": [],
   "source": [
    "entries['Agent'] = agent_lookup.ix[entries['Agent_ID'], 'Disambiguation_ID'].values"
   ]
  },
  {
   "cell_type": "code",
   "execution_count": 8,
   "metadata": {
    "collapsed": true
   },
   "outputs": [],
   "source": [
    "patent_performance = patent_data[['Patent', 'Citations', 'Application_Year', 'Class_ID']].drop_duplicates('Patent').set_index('Patent')"
   ]
  },
  {
   "cell_type": "code",
   "execution_count": 9,
   "metadata": {
    "collapsed": true
   },
   "outputs": [],
   "source": [
    "patent_performance['Citations_Percentile_for_Year'] = patent_performance.groupby('Application_Year')['Citations'].apply(lambda x: x.rank(method='min', pct=True))\n",
    "patent_performance['Citations_Percentile_for_Year_and_Class'] = patent_performance.groupby(['Application_Year', 'Class_ID'])['Citations'].apply(lambda x: x.rank(method='min', pct=True))\n",
    "\n",
    "patent_performance['Citations_Hit99_for_Year'] = (patent_performance['Citations_Percentile_for_Year']>.99).astype('int')\n",
    "patent_performance['Citations_Hit99_for_Year_and_Class'] = (patent_performance['Citations_Percentile_for_Year_and_Class']>.99).astype('int')\n",
    "\n",
    "patent_data['Citations_Percentile_for_Year'] = patent_performance.ix[patent_data['Patent'].values,  'Citations_Percentile_for_Year'].values\n",
    "patent_data['Citations_Percentile_for_Year_and_Class'] = patent_performance.ix[patent_data['Patent'].values,  'Citations_Percentile_for_Year_and_Class'].values\n",
    "\n",
    "patent_data['Citations_Hit99_for_Year'] = patent_performance.ix[patent_data['Patent'].values,  'Citations_Hit99_for_Year'].values\n",
    "patent_data['Citations_Hit99_for_Year_and_Class'] = patent_performance.ix[patent_data['Patent'].values,  'Citations_Hit99_for_Year_and_Class'].values"
   ]
  },
  {
   "cell_type": "code",
   "execution_count": 10,
   "metadata": {
    "collapsed": true
   },
   "outputs": [],
   "source": [
    "zscore = lambda x: (x - x.mean()) / x.std()\n",
    "    \n",
    "patent_performance['Citations_Z_for_Year'] = patent_performance.groupby('Application_Year')['Citations'].transform(zscore)\n",
    "patent_performance['Citations_Z_for_Year_and_Class'] = patent_performance.groupby(['Application_Year', 'Class_ID'])['Citations'].transform(zscore)"
   ]
  },
  {
   "cell_type": "code",
   "execution_count": 11,
   "metadata": {
    "collapsed": true
   },
   "outputs": [],
   "source": [
    "patent_data['Citations_Z_for_Year'] = patent_performance.ix[patent_data['Patent'].values,  'Citations_Z_for_Year'].values\n",
    "patent_data['Citations_Z_for_Year_and_Class'] = patent_performance.ix[patent_data['Patent'].values,  'Citations_Z_for_Year_and_Class'].values"
   ]
  },
  {
   "cell_type": "code",
   "execution_count": 12,
   "metadata": {
    "collapsed": true
   },
   "outputs": [],
   "source": [
    "thresholds = [3,4,5,6]\n",
    "for thr in thresholds:\n",
    "    patent_data['Citations_%iZ_for_Year_and_Class'%thr] = patent_data['Citations_Z_for_Year_and_Class']>thr\n",
    "    patent_data.groupby(['Agent', 'Class_ID'])['Citations_%iZ_for_Year_and_Class'%thr].sum()\n",
    "    entries['Citations_Hit_for_Year_and_Class_%iZ_Count'%thr] = patent_data.groupby(['Agent', \n",
    "        'Class_ID'])['Citations_%iZ_for_Year_and_Class'%thr].sum().ix[pd.Index(entries[['Agent',\n",
    "                                                                                        'Class_ID']])].values\n",
    "    entries['Citations_Hit_for_Year_and_Class_%iZ_Rate'%thr] = (entries['Citations_Hit_for_Year_and_Class_%iZ_Count'%thr]/\n",
    "                                                                entries['Agent_Number_of_Patents_in_Class']\n",
    "                                                                )"
   ]
  },
  {
   "cell_type": "code",
   "execution_count": 13,
   "metadata": {
    "collapsed": false
   },
   "outputs": [],
   "source": [
    "entries['Highest_Patent_Citations_in_Class'] = patent_data.groupby(['Agent', \n",
    "                                                             'Class_ID'])['Citations'].max().ix[pd.Index(entries[['Agent', \n",
    "                                                                                                            'Class_ID']])].values\n",
    "entries['Highest_Patent_Citations_Percentile_for_Year_in_Class'] = patent_data.groupby(['Agent', \n",
    "                                                             'Class_ID'])['Citations_Percentile_for_Year'].max().ix[pd.Index(entries[['Agent', \n",
    "                                                                                                            'Class_ID']])].values\n",
    "entries['Highest_Patent_Citations_Percentile_for_Year_and_Class_in_Class'] = patent_data.groupby(['Agent', \n",
    "                                                             'Class_ID'])['Citations_Percentile_for_Year_and_Class'].max().ix[pd.Index(entries[['Agent', \n",
    "                                                                                                            'Class_ID']])].values\n",
    "\n",
    "entries['Citations_Hit99_for_Year_Rate_in_Class'] = patent_data.groupby(['Agent', \n",
    "                                                             'Class_ID'])['Citations_Hit99_for_Year'].mean().ix[pd.Index(entries[['Agent', \n",
    "                                                                                                                      'Class_ID']])].values\n",
    "entries['Citations_Hit99_for_Year_and_Class_Rate_in_Class'] = patent_data.groupby(['Agent', \n",
    "                                                             'Class_ID'])['Citations_Hit99_for_Year_and_Class'].mean().ix[pd.Index(entries[['Agent', \n",
    "                                                                                                                      'Class_ID']])].values"
   ]
  },
  {
   "cell_type": "code",
   "execution_count": 14,
   "metadata": {
    "collapsed": true
   },
   "outputs": [],
   "source": [
    "entries['First_Patent_Citations'] = entries['Citations']"
   ]
  },
  {
   "cell_type": "code",
   "execution_count": 15,
   "metadata": {
    "collapsed": false
   },
   "outputs": [],
   "source": [
    "entries['First_Patent_Citations_Percentile_for_Year'] = patent_performance.ix[entries['Patent'].values, 'Citations_Percentile_for_Year'].values\n",
    "entries['First_Patent_Citations_Percentile_for_Year_and_Class'] = patent_performance.ix[entries['Patent'].values, 'Citations_Percentile_for_Year_and_Class'].values\n",
    "\n",
    "entries['First_Patent_Citations_Hit99_for_Year'] = patent_performance.ix[entries['Patent'].values, 'Citations_Hit99_for_Year'].values\n",
    "entries['First_Patent_Citations_Hit99_for_Year_and_Class'] = patent_performance.ix[entries['Patent'].values, 'Citations_Hit99_for_Year_and_Class'].values"
   ]
  },
  {
   "cell_type": "code",
   "execution_count": 16,
   "metadata": {
    "collapsed": false
   },
   "outputs": [
    {
     "name": "stdout",
     "output_type": "stream",
     "text": [
      "First_Patent_Citations\n"
     ]
    }
   ],
   "source": [
    "values_to_calculate = [('First_Patent_Citations','Citations')\n",
    "                       ]\n",
    "    \n",
    "for entries_column, patent_data_column in values_to_calculate:\n",
    "    print(entries_column)\n",
    "    m = patent_performance.groupby('Application_Year')[patent_data_column].mean()\n",
    "    entries[entries_column+'_Mean_for_Year'] = m.ix[entries['Application_Year']].values\n",
    "    \n",
    "    s = patent_performance.groupby('Application_Year')[patent_data_column].std()\n",
    "    entries[entries_column+'_STD_for_Year'] = s.ix[entries['Application_Year']].values\n",
    "    \n",
    "    m = patent_performance.groupby(['Application_Year', 'Class_ID'])[patent_data_column].mean()\n",
    "    entries[entries_column+'_Mean_for_Year_and_Class'] = m.ix[zip(entries['Application_Year'], \n",
    "                                                                  entries['Class_ID'])].values\n",
    "    \n",
    "    s = patent_performance.groupby(['Application_Year', 'Class_ID'])[patent_data_column].std()\n",
    "    entries[entries_column+'_STD_for_Year_and_Class'] = s.ix[zip(entries['Application_Year'], \n",
    "                                                                 entries['Class_ID'])].values"
   ]
  },
  {
   "cell_type": "code",
   "execution_count": 17,
   "metadata": {
    "collapsed": false
   },
   "outputs": [],
   "source": [
    "# patent_data.sort(['Agent', 'Application_Date', 'Patent'], inplace=True)"
   ]
  },
  {
   "cell_type": "code",
   "execution_count": 18,
   "metadata": {
    "collapsed": false
   },
   "outputs": [
    {
     "name": "stderr",
     "output_type": "stream",
     "text": [
      "/home/jeffrey_alstott/anaconda3/lib/python3.4/site-packages/ipykernel/__main__.py:1: FutureWarning: sort(columns=....) is deprecated, use sort_values(by=.....)\n",
      "  if __name__ == '__main__':\n"
     ]
    }
   ],
   "source": [
    "patent_data.sort(['Application_Date', 'Patent'], inplace=True)\n",
    "\n",
    "patent_data['Agent_Number_of_Patents_in_Class_All_Time'] = patent_data.groupby(['Agent', 'Class_ID'])['Patent'].transform('count')\n",
    "patent_data['Agent_Number_of_Previous_Patents_in_Class'] = patent_data.groupby(['Agent', 'Class_ID'])['Patent'].cumcount()\n",
    "patent_data['Agent_Number_of_Further_Patents_in_Class'] = patent_data['Agent_Number_of_Patents_in_Class_All_Time'] - patent_data['Agent_Number_of_Previous_Patents_in_Class']\n",
    "\n",
    "patent_data['Agent_Number_of_Previous_Patents'] = patent_data.groupby(['Agent'])['Patent'].cumcount()\n",
    "patent_data['Agent_Number_of_Further_Patents'] = patent_data['Agent_Number_of_Patents_All_Time'] - patent_data['Agent_Number_of_Previous_Patents']"
   ]
  },
  {
   "cell_type": "code",
   "execution_count": 19,
   "metadata": {
    "collapsed": false
   },
   "outputs": [
    {
     "name": "stderr",
     "output_type": "stream",
     "text": [
      "/home/jeffrey_alstott/anaconda3/lib/python3.4/site-packages/ipykernel/__main__.py:1: FutureWarning: sort(columns=....) is deprecated, use sort_values(by=.....)\n",
      "  if __name__ == '__main__':\n"
     ]
    }
   ],
   "source": [
    "patent_data.sort(['Application_Date', 'Patent'], ascending=False, inplace=True)\n",
    "\n",
    "patent_data['Agent_Number_of_Citations_from_Further_Patents_in_Class'] = patent_data.groupby(['Agent', 'Class_ID'])['Citations'].cumsum()\n",
    "\n",
    "patent_data['Agent_Number_of_Citations_from_Further_Patents'] = patent_data.groupby(['Agent'])['Citations'].cumsum()"
   ]
  },
  {
   "cell_type": "code",
   "execution_count": 20,
   "metadata": {
    "collapsed": true
   },
   "outputs": [],
   "source": [
    "entries['Agent_Number_of_Citations_per_Patent_in_Class'] = (entries['Agent_Number_of_Citations_in_Class'] /\n",
    "                                                            entries['Agent_Number_of_Patents_in_Class'])"
   ]
  },
  {
   "cell_type": "code",
   "execution_count": 21,
   "metadata": {
    "collapsed": false
   },
   "outputs": [],
   "source": [
    "patent_data['Agent_Number_of_Citations_per_Patent_from_Further_Patents_in_Class'] = (patent_data['Agent_Number_of_Citations_from_Further_Patents_in_Class'] /\n",
    "                                                                                     patent_data['Agent_Number_of_Further_Patents_in_Class']\n",
    "                                                                                     )"
   ]
  },
  {
   "cell_type": "code",
   "execution_count": 22,
   "metadata": {
    "collapsed": true
   },
   "outputs": [],
   "source": [
    "from scipy.stats import scoreatpercentile"
   ]
  },
  {
   "cell_type": "code",
   "execution_count": 23,
   "metadata": {
    "collapsed": false,
    "scrolled": true
   },
   "outputs": [
    {
     "name": "stdout",
     "output_type": "stream",
     "text": [
      "_of_All_Agents_Active_in_Class\n",
      "Agent_Number_of_Patents_in_Class\n",
      "Agent_Number_of_Citations_in_Class\n",
      "Agent_Number_of_Citations_per_Patent_in_Class\n",
      "_of_Agents_New_to_Class\n",
      "Agent_Number_of_Patents_in_Class\n",
      "Agent_Number_of_Citations_in_Class\n",
      "Agent_Number_of_Citations_per_Patent_in_Class\n",
      "_of_Agents_Newborn_in_Class\n",
      "Agent_Number_of_Patents_in_Class\n",
      "Agent_Number_of_Citations_in_Class\n",
      "Agent_Number_of_Citations_per_Patent_in_Class\n",
      "_of_New_Immigrants_to_Class\n",
      "Agent_Number_of_Patents_in_Class\n",
      "Agent_Number_of_Citations_in_Class\n",
      "Agent_Number_of_Citations_per_Patent_in_Class\n",
      "_of_Agents_Previously_Active_in_Class\n",
      "Agent_Number_of_Patents_in_Class\n",
      "Agent_Number_of_Citations_in_Class\n",
      "Agent_Number_of_Citations_per_Patent_in_Class\n",
      "_of_Natives_Previously_Active_in_Class\n",
      "Agent_Number_of_Patents_in_Class\n",
      "Agent_Number_of_Citations_in_Class\n",
      "Agent_Number_of_Citations_per_Patent_in_Class\n"
     ]
    },
    {
     "name": "stderr",
     "output_type": "stream",
     "text": [
      "/home/jeffrey_alstott/anaconda3/lib/python3.4/site-packages/pandas/computation/expressions.py:190: UserWarning: evaluating in Python space because the '*' operator is not supported by numexpr for the bool dtype, use '&' instead\n",
      "  unsupported[op_str]))\n"
     ]
    }
   ],
   "source": [
    "values_to_calculate = [('Agent_Number_of_Patents_in_Class','Agent_Number_of_Further_Patents_in_Class'),\n",
    "                       ('Agent_Number_of_Citations_in_Class','Agent_Number_of_Citations_from_Further_Patents_in_Class'),\n",
    "                       ('Agent_Number_of_Citations_per_Patent_in_Class', 'Agent_Number_of_Citations_per_Patent_from_Further_Patents_in_Class')\n",
    "                       ]\n",
    "\n",
    "new_to_class = patent_data['Agent_Number_of_Previous_Patents_in_Class']==0\n",
    "newborn = patent_data['Agent_Patent_Number']==1\n",
    "native = patent_data['Agent_Class_Number']==1\n",
    "for these_patent_data, label in [(None, '_of_All_Agents_Active_in_Class'),\n",
    "                                (new_to_class, '_of_Agents_New_to_Class'),\n",
    "                                (newborn, '_of_Agents_Newborn_in_Class'),\n",
    "                                (new_to_class*~newborn, '_of_New_Immigrants_to_Class'),\n",
    "                                (~new_to_class, '_of_Agents_Previously_Active_in_Class'),\n",
    "                                (~new_to_class*native, '_of_Natives_Previously_Active_in_Class')\n",
    "                                ]:\n",
    "    print(label)\n",
    "    if these_patent_data is not None:\n",
    "        these_patent_data = patent_data[these_patent_data]\n",
    "    else:\n",
    "        these_patent_data = patent_data\n",
    "        \n",
    "    for entries_column, patent_data_column in values_to_calculate:\n",
    "        print(entries_column)\n",
    "        grouper = these_patent_data.drop_duplicates(['Agent', 'Application_Year', 'Class_ID']).groupby('Application_Year')[patent_data_column]\n",
    "        m = grouper.mean()\n",
    "        s = grouper.std()\n",
    "        h99 = grouper.apply(lambda x: scoreatpercentile(x,99))\n",
    "        h90 = grouper.apply(lambda x: scoreatpercentile(x,90))\n",
    "        \n",
    "        entries[entries_column+'_Mean_for_Year'+label] = m.ix[entries['Application_Year']].values\n",
    "        entries[entries_column+'_STD_for_Year'+label] = s.ix[entries['Application_Year']].values\n",
    "        entries[entries_column+'_Percentile_99_for_Year'+label] = h99.ix[entries['Application_Year']].values\n",
    "        entries[entries_column+'_Percentile_90_for_Year'+label] = h90.ix[entries['Application_Year']].values\n",
    "\n",
    "\n",
    "        grouper = these_patent_data.drop_duplicates(['Agent', 'Application_Year', 'Class_ID']).groupby(['Application_Year', 'Class_ID'])[patent_data_column]\n",
    "        m = grouper.mean()\n",
    "        s = grouper.std()\n",
    "        h99 = grouper.apply(lambda x: scoreatpercentile(x,99))\n",
    "        h90 = grouper.apply(lambda x: scoreatpercentile(x,90))\n",
    "        \n",
    "        entries[entries_column+'_Mean_for_Year_and_Class'+label] = m.ix[zip(entries['Application_Year'], entries['Class_ID'])].values\n",
    "        entries[entries_column+'_STD_for_Year_and_Class'+label] = s.ix[zip(entries['Application_Year'], entries['Class_ID'])].values\n",
    "        entries[entries_column+'_Percentile_99_for_Year_and_Class'+label] = h99.ix[zip(entries['Application_Year'], entries['Class_ID'])].values\n",
    "        entries[entries_column+'_Percentile_90_for_Year_and_Class'+label] = h90.ix[zip(entries['Application_Year'], entries['Class_ID'])].values"
   ]
  },
  {
   "cell_type": "code",
   "execution_count": 24,
   "metadata": {
    "collapsed": false
   },
   "outputs": [],
   "source": [
    "entries['First_Patent_Application_Year']= patent_data[patent_data['Agent_Patent_Number']==1].set_index('Agent').ix[entries['Agent'], \n",
    "                                                                                                                   'Application_Year'].values\n",
    "entries['Years_Since_First_Patent'] = entries['Application_Year'] - entries['First_Patent_Application_Year']"
   ]
  },
  {
   "cell_type": "code",
   "execution_count": null,
   "metadata": {
    "collapsed": true
   },
   "outputs": [],
   "source": [
    "n_authors = patent_data['Patent'].value_counts()\n",
    "entries['N_Agents'] = n_authors.ix[entries['Patent']].values\n",
    "\n",
    "n_new_authors = entries['Patent'].value_counts()\n",
    "entries['N_New_Agents'] = n_new_authors.ix[entries['Patent']].values\n",
    "\n",
    "entries['Guided'] = entries['N_New_Agents']!=entries['N_Agents']"
   ]
  },
  {
   "cell_type": "code",
   "execution_count": 25,
   "metadata": {
    "collapsed": true
   },
   "outputs": [],
   "source": [
    "store = pd.HDFStore(data_directory+'Agent_Entries/agent_%s_%s.h5'%(target, class_system))\n",
    "store['%s_%s_with_performance'%(target, class_system)] = entries\n",
    "store.close()"
   ]
  }
 ],
 "metadata": {
  "anaconda-cloud": {},
  "kernelspec": {
   "display_name": "Python [default]",
   "language": "python",
   "name": "python3"
  },
  "language_info": {
   "codemirror_mode": {
    "name": "ipython",
    "version": 3
   },
   "file_extension": ".py",
   "mimetype": "text/x-python",
   "name": "python",
   "nbconvert_exporter": "python",
   "pygments_lexer": "ipython3",
   "version": "3.5.2"
  }
 },
 "nbformat": 4,
 "nbformat_minor": 0
}
