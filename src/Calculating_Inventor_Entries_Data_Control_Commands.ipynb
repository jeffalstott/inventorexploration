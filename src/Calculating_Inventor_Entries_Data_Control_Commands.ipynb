{
 "cells": [
  {
   "cell_type": "code",
   "execution_count": null,
   "metadata": {
    "collapsed": true
   },
   "outputs": [],
   "source": [
    "# job_files_directory = 'jobfiles/'\n",
    "# sample_length = 10000\n",
    "# all_samples_end = 690000\n",
    "# all_samples_start = 0\n",
    "# abs_path_data_directory = ..."
   ]
  },
  {
   "cell_type": "code",
   "execution_count": null,
   "metadata": {
    "collapsed": true
   },
   "outputs": [],
   "source": [
    "if overwrite:\n",
    "    samples = range(all_samples_start,all_samples_end,sample_length)\n",
    "else:\n",
    "    from os import listdir\n",
    "    dirlist = listdir(data_directory+'Agent_Entries/samples/')\n",
    "    from pylab import *\n",
    "    unrun_samples = ones(len(range(all_samples_start,all_samples_end,sample_length)))\n",
    "\n",
    "    for f in dirlist:\n",
    "        if f.startswith('agent_entry_data_%s_sample_'%class_system):\n",
    "            n = int(f.split('_')[-3])/sample_length\n",
    "            unrun_samples[n] = 0\n",
    "\n",
    "    unrun_samples = where(unrun_samples)[0]*sample_length\n",
    "\n",
    "    samples = unrun_samples"
   ]
  },
  {
   "cell_type": "code",
   "execution_count": null,
   "metadata": {
    "collapsed": true
   },
   "outputs": [],
   "source": [
    "from os import system\n",
    "basic_program = open('Calculating_Inventor_Entries_Data.py', 'r').read()"
   ]
  },
  {
   "cell_type": "code",
   "execution_count": null,
   "metadata": {
    "collapsed": true
   },
   "outputs": [],
   "source": [
    "for sample_start in samples:\n",
    "    header = \"\"\"#!{2}\n",
    "#PBS -l nodes=1:ppn=5\n",
    "#PBS -l walltime=72:00:00\n",
    "#PBS -l mem=40000m\n",
    "#PBS -N sample_{0}_{1}\n",
    "\"\"\".format(sample_start, class_system, python_location)\n",
    "    \n",
    "    options = \"\"\"agent_sample=({0}, {1})\n",
    "print(\"Sample range: %i to %i\"%agent_sample)\n",
    "class_system = '{2}'\n",
    "all_n_years = {3}\n",
    "use_precalculated_supporting_data = True\n",
    "store_calculated_supporting_data = False\n",
    "use_regressed_z_scores = True\n",
    "data_directory = '{4}'\n",
    "\"\"\".format(sample_start, sample_start+sample_length,\n",
    "          class_system,\n",
    "          all_n_years,\n",
    "          abs_path_data_directory)\n",
    "\n",
    "    this_program = header+options+basic_program\n",
    "    this_job_file = 'jobfiles/sample_{0}_{1}_{2}.py'.format(sample_start, \n",
    "                                                            sample_start+sample_length, \n",
    "                                                            class_system)\n",
    "\n",
    "\n",
    "    f = open(this_job_file, 'w')\n",
    "    f.write(this_program)\n",
    "    f.close()\n",
    "\n",
    "    system('qsub '+this_job_file)"
   ]
  }
 ],
 "metadata": {
  "kernelspec": {
   "display_name": "Python 3",
   "language": "python",
   "name": "python3"
  },
  "language_info": {
   "codemirror_mode": {
    "name": "ipython",
    "version": 3
   },
   "file_extension": ".py",
   "mimetype": "text/x-python",
   "name": "python",
   "nbconvert_exporter": "python",
   "pygments_lexer": "ipython3",
   "version": "3.4.3"
  }
 },
 "nbformat": 4,
 "nbformat_minor": 0
}
