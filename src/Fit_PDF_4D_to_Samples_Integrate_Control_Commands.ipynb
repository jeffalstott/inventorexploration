{
 "cells": [
  {
   "cell_type": "code",
   "execution_count": 29,
   "metadata": {
    "collapsed": false
   },
   "outputs": [],
   "source": [
    "from os import system"
   ]
  },
  {
   "cell_type": "code",
   "execution_count": 30,
   "metadata": {
    "collapsed": false
   },
   "outputs": [],
   "source": [
    "basic_program = open('Fit_PDF_4D_to_Samples_Integrate.py', 'r').read()"
   ]
  },
  {
   "cell_type": "code",
   "execution_count": 31,
   "metadata": {
    "collapsed": false
   },
   "outputs": [],
   "source": [
    "# max_sample = 773000\n",
    "# sample_length = 1000\n",
    "# sample_start = 0\n",
    "# n_combine = 100000\n",
    "# class_system = 'IPC4'\n",
    "# rescale_z = True\n",
    "\n",
    "# from os import path\n",
    "# import sys\n",
    "# python_location = path.dirname(sys.executable)+'/python'\n",
    "# data_directory = '../data/'\n",
    "# abs_path_data_directory = path.abspath(data_directory)+'/'"
   ]
  },
  {
   "cell_type": "code",
   "execution_count": 32,
   "metadata": {
    "collapsed": true
   },
   "outputs": [],
   "source": [
    "# relatedness_types = [ 'Class_Cites_Class_Count_1_years_percent_positive_all_years_back_mean',\n",
    "#                      'Class_Cited_by_Class_Count_1_years_percent_positive_all_years_back_mean',\n",
    "#                      'Class_CoOccurrence_Count_Inventor_1_years_percent_positive_all_years_back_mean',\n",
    "#                      'Class_CoOccurrence_Count_PID_1_years_percent_positive_all_years_back_mean',\n",
    "#                     ]"
   ]
  },
  {
   "cell_type": "code",
   "execution_count": 35,
   "metadata": {
    "collapsed": true
   },
   "outputs": [],
   "source": [
    "popularity_types = ['Class_Patent_Count_1_years_Previous_Year_Percentile']"
   ]
  },
  {
   "cell_type": "code",
   "execution_count": 36,
   "metadata": {
    "collapsed": false
   },
   "outputs": [],
   "source": [
    "for relatedness in relatedness_types:\n",
    "    for popularity in popularity_types:\n",
    "        header = \"\"\"#!{2}\n",
    "#PBS -l nodes=1:ppn=5\n",
    "#PBS -l walltime=0:45:00\n",
    "#PBS -l mem=20000m\n",
    "#PBS -N PDF_{0}_{1}\n",
    "\"\"\".format(relatedness, popularity, python_location)\n",
    "    \n",
    "        options = \"\"\"relatedness_types = ['{0}']\n",
    "popularity_types = ['{1}']\n",
    "data_directory = '{2}'\n",
    "class_system = '{3}'\n",
    "max_sample = {4}\n",
    "sample_start = {5}\n",
    "sample_length = {6}\n",
    "n_combine = {7}\n",
    "rescale_z = {8}\n",
    "\"\"\".format(relatedness, popularity,\n",
    "           abs_path_data_directory,\n",
    "          class_system,\n",
    "           max_sample,\n",
    "           sample_start,\n",
    "           sample_length,\n",
    "           n_combine,\n",
    "           rescale_z\n",
    "          )\n",
    "\n",
    "    this_program = header+options+basic_program\n",
    "    this_job_file = 'jobfiles/PDF_{0}_{1}_{2}.py'.format(relatedness, popularity, class_system)\n",
    "\n",
    "\n",
    "    f = open(this_job_file, 'w')\n",
    "    f.write(this_program)\n",
    "    f.close()\n",
    "\n",
    "    system('qsub '+this_job_file)"
   ]
  }
 ],
 "metadata": {
  "css": [
   ""
  ],
  "kernelspec": {
   "display_name": "Python 3",
   "language": "python",
   "name": "python3"
  },
  "language_info": {
   "codemirror_mode": {
    "name": "ipython",
    "version": 3
   },
   "file_extension": ".py",
   "mimetype": "text/x-python",
   "name": "python",
   "nbconvert_exporter": "python",
   "pygments_lexer": "ipython3",
   "version": "3.4.3"
  }
 },
 "nbformat": 4,
 "nbformat_minor": 0
}
