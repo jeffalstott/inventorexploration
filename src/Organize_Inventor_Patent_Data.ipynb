{
 "cells": [
  {
   "cell_type": "code",
   "execution_count": 1,
   "metadata": {
    "collapsed": true
   },
   "outputs": [],
   "source": [
    "import pandas as pd\n",
    "from pylab import *"
   ]
  },
  {
   "cell_type": "code",
   "execution_count": 2,
   "metadata": {
    "collapsed": true
   },
   "outputs": [],
   "source": [
    "# data_directory = '../data/'\n",
    "# class_system = 'IPC4'"
   ]
  },
  {
   "cell_type": "code",
   "execution_count": 3,
   "metadata": {
    "collapsed": false
   },
   "outputs": [],
   "source": [
    "all_inventorships = pd.read_csv(data_directory+'disamb_data_ipc_citations_2.csv')"
   ]
  },
  {
   "cell_type": "code",
   "execution_count": 4,
   "metadata": {
    "collapsed": false,
    "scrolled": true
   },
   "outputs": [
    {
     "name": "stderr",
     "output_type": "stream",
     "text": [
      "/home/jeffrey_alstott/anaconda3/lib/python3.4/site-packages/pandas/core/frame.py:2697: SettingWithCopyWarning: \n",
      "A value is trying to be set on a copy of a slice from a DataFrame\n",
      "\n",
      "See the caveats in the documentation: http://pandas.pydata.org/pandas-docs/stable/indexing.html#indexing-view-versus-copy\n",
      "  **kwargs)\n",
      "/home/jeffrey_alstott/anaconda3/lib/python3.4/site-packages/pandas/util/decorators.py:89: SettingWithCopyWarning: \n",
      "A value is trying to be set on a copy of a slice from a DataFrame\n",
      "\n",
      "See the caveats in the documentation: http://pandas.pydata.org/pandas-docs/stable/indexing.html#indexing-view-versus-copy\n",
      "  return func(*args, **kwargs)\n",
      "/home/jeffrey_alstott/anaconda3/lib/python3.4/site-packages/ipykernel/__main__.py:24: SettingWithCopyWarning: \n",
      "A value is trying to be set on a copy of a slice from a DataFrame.\n",
      "Try using .loc[row_indexer,col_indexer] = value instead\n",
      "\n",
      "See the caveats in the documentation: http://pandas.pydata.org/pandas-docs/stable/indexing.html#indexing-view-versus-copy\n",
      "/home/jeffrey_alstott/anaconda3/lib/python3.4/site-packages/ipykernel/__main__.py:25: SettingWithCopyWarning: \n",
      "A value is trying to be set on a copy of a slice from a DataFrame.\n",
      "Try using .loc[row_indexer,col_indexer] = value instead\n",
      "\n",
      "See the caveats in the documentation: http://pandas.pydata.org/pandas-docs/stable/indexing.html#indexing-view-versus-copy\n"
     ]
    }
   ],
   "source": [
    "agent_column = 'INVENTOR_ID'\n",
    "\n",
    "\n",
    "if class_system == 'IPC':\n",
    "    temp_class_system = 'IPC3'\n",
    "else:\n",
    "    temp_class_system = class_system\n",
    "\n",
    "\n",
    "data = all_inventorships[['PID', agent_column, temp_class_system, \n",
    "                          'APPDATE', 'GYEAR',\n",
    "                         'CITED_CNTS']]\n",
    "\n",
    "data.rename(columns={'PID': 'Patent',\n",
    "                     agent_column: 'Agent',\n",
    "                     temp_class_system: 'Class',\n",
    "                     'APPDATE': 'Application_Date',\n",
    "                     'GYEAR': 'Issued_Year',\n",
    "                    'CITED_CNTS': 'Citations'},\n",
    "            inplace=True)\n",
    "\n",
    "data.drop_duplicates(inplace=True)\n",
    "\n",
    "data['Application_Date'] = pd.to_datetime(data['Application_Date'])\n",
    "data['Application_Year'] = pd.DatetimeIndex(data['Application_Date']).year"
   ]
  },
  {
   "cell_type": "code",
   "execution_count": 5,
   "metadata": {
    "collapsed": false
   },
   "outputs": [
    {
     "name": "stderr",
     "output_type": "stream",
     "text": [
      "/home/jeffrey_alstott/anaconda3/lib/python3.4/site-packages/ipykernel/__main__.py:10: SettingWithCopyWarning: \n",
      "A value is trying to be set on a copy of a slice from a DataFrame.\n",
      "Try using .loc[row_indexer,col_indexer] = value instead\n",
      "\n",
      "See the caveats in the documentation: http://pandas.pydata.org/pandas-docs/stable/indexing.html#indexing-view-versus-copy\n",
      "/home/jeffrey_alstott/anaconda3/lib/python3.4/site-packages/ipykernel/__main__.py:11: SettingWithCopyWarning: \n",
      "A value is trying to be set on a copy of a slice from a DataFrame\n",
      "\n",
      "See the caveats in the documentation: http://pandas.pydata.org/pandas-docs/stable/indexing.html#indexing-view-versus-copy\n",
      "/home/jeffrey_alstott/anaconda3/lib/python3.4/site-packages/ipykernel/__main__.py:12: SettingWithCopyWarning: \n",
      "A value is trying to be set on a copy of a slice from a DataFrame.\n",
      "Try using .loc[row_indexer,col_indexer] = value instead\n",
      "\n",
      "See the caveats in the documentation: http://pandas.pydata.org/pandas-docs/stable/indexing.html#indexing-view-versus-copy\n",
      "/home/jeffrey_alstott/anaconda3/lib/python3.4/site-packages/ipykernel/__main__.py:13: SettingWithCopyWarning: \n",
      "A value is trying to be set on a copy of a slice from a DataFrame\n",
      "\n",
      "See the caveats in the documentation: http://pandas.pydata.org/pandas-docs/stable/indexing.html#indexing-view-versus-copy\n"
     ]
    }
   ],
   "source": [
    "official_class_lookup = pd.read_hdf(data_directory+'class_lookup_tables.h5', '%s_class_lookup'%class_system)\n",
    "\n",
    "all_classes_observed = sort(data.Class.unique())\n",
    "classes_lookup = pd.DataFrame(data=official_class_lookup.ix[all_classes_observed].dropna().index.values,#all_classes_observed, \n",
    "                              columns=['Class_Name'])\n",
    "classes_lookup['Class_ID'] = classes_lookup.index\n",
    "\n",
    "n_classes = classes_lookup.shape[0]\n",
    "\n",
    "data['Class_ID'] = classes_lookup.set_index('Class_Name').ix[data['Class'],'Class_ID'].values\n",
    "data.dropna(subset=['Class_ID'], inplace=True)\n",
    "data['Class_ID'] = data['Class_ID'].astype('int32')\n",
    "data.drop('Class', axis=1, inplace=True)"
   ]
  },
  {
   "cell_type": "code",
   "execution_count": 9,
   "metadata": {
    "collapsed": false
   },
   "outputs": [
    {
     "name": "stderr",
     "output_type": "stream",
     "text": [
      "/home/jeffrey_alstott/anaconda3/lib/python3.4/site-packages/ipykernel/__main__.py:9: FutureWarning: sort(columns=....) is deprecated, use sort_values(by=.....)\n"
     ]
    }
   ],
   "source": [
    "Agent_patent_counts = data['Agent'].value_counts()\n",
    "Agent_class_counts = data.drop_duplicates(['Agent', 'Class_ID'])['Agent'].value_counts()\n",
    "\n",
    "agents_lookup = pd.DataFrame({\"Agent_Number_of_Patents_All_Time\": Agent_patent_counts, \n",
    "              \"Agent_Number_of_Classes_All_Time\": Agent_class_counts})\n",
    "\n",
    "data = data.merge(agents_lookup, left_on='Agent', right_index=True, how='inner')\n",
    "\n",
    "data.sort(['Agent', 'Application_Date', 'Patent'], inplace=True)\n",
    "data['Agent_Patent_Number'] = data.groupby('Agent')['Patent'].cumcount()+1\n",
    "\n",
    "data['New_Class'] = data.groupby('Agent')['Class_ID'].transform(lambda x: ~x.duplicated())\n",
    "\n",
    "def f(classes):\n",
    "    sorted_unique, inverse_unique, indices = unique(classes, return_inverse=True, return_index=True)\n",
    "    z, order_of_appearance = unique(inverse_unique, return_inverse=True)\n",
    "    return order_of_appearance[indices]\n",
    "data['Agent_Class_Number'] = data.groupby('Agent')['Class_ID'].transform(f)\n",
    "data['Agent_Class_Number'] += 1\n",
    "\n",
    "data['Agent_Class_Number'] = data['Agent_Class_Number'].astype('int')\n",
    "data['New_Class'] = data['New_Class'].astype('uint8')"
   ]
  },
  {
   "cell_type": "code",
   "execution_count": 10,
   "metadata": {
    "collapsed": false
   },
   "outputs": [
    {
     "name": "stderr",
     "output_type": "stream",
     "text": [
      "/home/jeffrey_alstott/anaconda3/lib/python3.4/site-packages/ipykernel/__main__.py:2: SettingWithCopyWarning: \n",
      "A value is trying to be set on a copy of a slice from a DataFrame.\n",
      "Try using .loc[row_indexer,col_indexer] = value instead\n",
      "\n",
      "See the caveats in the documentation: http://pandas.pydata.org/pandas-docs/stable/indexing.html#indexing-view-versus-copy\n",
      "  from ipykernel import kernelapp as app\n"
     ]
    }
   ],
   "source": [
    "agents_lookup_explorers = agents_lookup[agents_lookup.Agent_Number_of_Classes_All_Time>=2]\n",
    "agents_lookup_explorers['Agent_ID'] = arange(len(agents_lookup_explorers.index))\n",
    "\n",
    "agents_lookup_explorers.index.name = 'Disambiguation_ID'\n",
    "agents_lookup_explorers.reset_index(inplace=True)\n",
    "agents_lookup_explorers.set_index(['Agent_ID'], inplace=True)"
   ]
  },
  {
   "cell_type": "code",
   "execution_count": 11,
   "metadata": {
    "collapsed": false
   },
   "outputs": [],
   "source": [
    "store = pd.HDFStore(data_directory+'organized_patent_data.h5')\n",
    "store['data_%s'%class_system] = data\n",
    "store['classes_lookup_%s'%class_system] = classes_lookup\n",
    "store['agents_lookup_%s'%class_system] = agents_lookup\n",
    "store['agents_lookup_explorers_%s'%class_system] = agents_lookup_explorers\n",
    "store.close()"
   ]
  }
 ],
 "metadata": {
  "css": [
   ""
  ],
  "kernelspec": {
   "display_name": "Python 3",
   "language": "python",
   "name": "python3"
  },
  "language_info": {
   "codemirror_mode": {
    "name": "ipython",
    "version": 3
   },
   "file_extension": ".py",
   "mimetype": "text/x-python",
   "name": "python",
   "nbconvert_exporter": "python",
   "pygments_lexer": "ipython3",
   "version": "3.4.3"
  }
 },
 "nbformat": 4,
 "nbformat_minor": 0
}
