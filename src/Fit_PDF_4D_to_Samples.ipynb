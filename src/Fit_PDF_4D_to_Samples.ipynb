{
 "cells": [
  {
   "cell_type": "code",
   "execution_count": 1,
   "metadata": {
    "collapsed": false
   },
   "outputs": [],
   "source": [
    "# sample_start = 0\n",
    "# sample_length = 1000\n",
    "# data_directory = '../data/'\n",
    "# class_system = 'IPC4'\n",
    "# rescale_z = True\n",
    "# relatedness_types = []"
   ]
  },
  {
   "cell_type": "code",
   "execution_count": 2,
   "metadata": {
    "collapsed": true
   },
   "outputs": [],
   "source": [
    "import pandas as pd\n",
    "from pylab import *"
   ]
  },
  {
   "cell_type": "code",
   "execution_count": 4,
   "metadata": {
    "collapsed": true
   },
   "outputs": [],
   "source": [
    "popularity_types = ['Class_Patent_Count_1_years_Previous_Year_Percentile']"
   ]
  },
  {
   "cell_type": "code",
   "execution_count": 5,
   "metadata": {
    "collapsed": false
   },
   "outputs": [],
   "source": [
    "from time import time\n",
    "t = time()"
   ]
  },
  {
   "cell_type": "code",
   "execution_count": 7,
   "metadata": {
    "collapsed": false
   },
   "outputs": [
    {
     "name": "stdout",
     "output_type": "stream",
     "text": [
      "Class_Cites_Class_Count_z_score_mean\n",
      "Class_Cited_by_Class_Count_z_score_mean\n",
      "Class_CoOccurrence_Count_PID_z_score_mean\n",
      "Class_CoOccurrence_Count_Inventor_z_score_mean\n",
      "Class_Cites_Class_Count_1_years_z_score_mean\n",
      "Class_Cited_by_Class_Count_1_years_z_score_mean\n",
      "Class_CoOccurrence_Count_Inventor_1_years_z_score_mean\n",
      "Class_CoOccurrence_Count_PID_1_years_z_score_mean\n",
      "Class_Cites_Class_Count_5_years_z_score_mean\n",
      "Class_Cited_by_Class_Count_5_years_z_score_mean\n",
      "Class_CoOccurrence_Count_Inventor_5_years_z_score_mean\n",
      "Class_CoOccurrence_Count_PID_5_years_z_score_mean\n"
     ]
    }
   ],
   "source": [
    "entry_data = pd.HDFStore((data_directory+\n",
    "                             'Agent_Entries/samples/agent_entry_data_%s_sample_%i_%i_agents.h5'%(class_system,\n",
    "                                                                                                     sample_start,\n",
    "                                                                                                     sample_start+sample_length)))\n",
    "all_data = entry_data['all_available_classes']\n",
    "entry_data.close()\n",
    "\n",
    "for relatedness in relatedness_types:\n",
    "    print(relatedness)\n",
    "    if 'z_score' in relatedness:\n",
    "        if rescale_z:\n",
    "            all_data.ix[all_data[relatedness]<0, relatedness] = 0\n",
    "            f = lambda x: ((x-1)/(x+1))/2+.5\n",
    "            all_data[relatedness] = f(all_data[relatedness].values)#*100\n",
    "            n_bins = 25.0\n",
    "            all_data.ix[all_data[relatedness]==0, relatedness] = -1\n",
    "        else:\n",
    "            n_bins=500.0\n",
    "    elif 'percent_positive' in relatedness:\n",
    "        n_bins=25.0\n",
    "#         all_data[relatedness] *= 100\n",
    "        #Flag the values that are 0 as -1 so they are below the range of the bins when digitizing.\n",
    "        #They will thus be labeled as \"0\" when digitizing, so we know they were literally 0, and not just close to 0.\n",
    "        all_data.ix[all_data[relatedness]==0, relatedness] = -1\n",
    "\n",
    "    all_data[relatedness] = digitize(all_data[relatedness], arange(0,1, 1/n_bins))/n_bins\n",
    "\n",
    "for popularity in popularity_types:\n",
    "    n_bins=500.0    \n",
    "    all_data[popularity] /=100\n",
    "    all_data[popularity] = digitize(all_data[popularity], arange(0,1, 1/n_bins))/n_bins\n",
    "\n",
    "all_data['Agent_Previous_Citations_to_Class'] = (all_data['Agent_Previous_Citations_to_Class']>0).astype('uint8')\n",
    "all_data['CoAgent_Count_in_Class'] = (all_data['CoAgent_Count_in_Class']>0).astype('uint8')\n",
    "all_data = all_data[all_data['Application_Year']>1976]\n",
    "all_data['Application_Year'] = all_data['Application_Year'].astype('int')"
   ]
  },
  {
   "cell_type": "code",
   "execution_count": 8,
   "metadata": {
    "collapsed": false
   },
   "outputs": [
    {
     "name": "stdout",
     "output_type": "stream",
     "text": [
      "3.6 minutes to load data.\n"
     ]
    }
   ],
   "source": [
    "print(\"%.1f minutes to load data.\"%((time()-t)/60))"
   ]
  },
  {
   "cell_type": "code",
   "execution_count": 9,
   "metadata": {
    "collapsed": true
   },
   "outputs": [],
   "source": [
    "import os\n",
    "def create_directory_if_not_existing(f):\n",
    "    try:\n",
    "        os.makedirs(f)\n",
    "    except OSError:\n",
    "        pass\n",
    "\n",
    "f = data_directory+'Predictive_Models/PDF/samples/agent_entry_data_%s_sample_%i_%i_agents/'%(class_system,\n",
    "                                                                                                     sample_start,\n",
    "                                                                                                     sample_start+sample_length)\n",
    "create_directory_if_not_existing(f)"
   ]
  },
  {
   "cell_type": "code",
   "execution_count": 10,
   "metadata": {
    "collapsed": false
   },
   "outputs": [
    {
     "name": "stdout",
     "output_type": "stream",
     "text": [
      "Class_Cites_Class_Count_z_score_mean\n",
      "Class_Cited_by_Class_Count_z_score_mean\n",
      "Class_CoOccurrence_Count_PID_z_score_mean\n",
      "Class_CoOccurrence_Count_Inventor_z_score_mean\n",
      "Class_Cites_Class_Count_1_years_z_score_mean\n",
      "Class_Cited_by_Class_Count_1_years_z_score_mean\n",
      "Class_CoOccurrence_Count_Inventor_1_years_z_score_mean\n",
      "Class_CoOccurrence_Count_PID_1_years_z_score_mean\n",
      "Class_Cites_Class_Count_5_years_z_score_mean\n",
      "Class_Cited_by_Class_Count_5_years_z_score_mean\n",
      "Class_CoOccurrence_Count_Inventor_5_years_z_score_mean\n",
      "Class_CoOccurrence_Count_PID_5_years_z_score_mean\n"
     ]
    }
   ],
   "source": [
    "for relatedness in relatedness_types:\n",
    "    print(relatedness)\n",
    "    \n",
    "    g = f+relatedness\n",
    "    if 'z_score' in relatedness and rescale_z: \n",
    "        g += '_rescaled'\n",
    "    g += '/'\n",
    "    create_directory_if_not_existing(g)\n",
    "\n",
    "    for popularity in popularity_types:\n",
    "        h = g+popularity+'/'\n",
    "        create_directory_if_not_existing(h)\n",
    "        data = all_data.groupby(['Application_Year', \n",
    "                                 relatedness, \n",
    "                                 popularity,\n",
    "                                 'Agent_Previous_Citations_to_Class',\n",
    "                                 'CoAgent_Count_in_Class'])['Patent'].count()\n",
    "        entries = all_data[all_data['Entered']>0].groupby(['Application_Year', \n",
    "                                                           relatedness, \n",
    "                                                           popularity,\n",
    "                                                          'Agent_Previous_Citations_to_Class',\n",
    "                                                          'CoAgent_Count_in_Class'])['Patent'].count()\n",
    "        data.to_hdf(h+'data.h5', 'data', complib='blosc', complevel=9)\n",
    "        entries.to_hdf(h+'data.h5', 'entries', complib='blosc', complevel=9)"
   ]
  },
  {
   "cell_type": "code",
   "execution_count": 11,
   "metadata": {
    "collapsed": false
   },
   "outputs": [
    {
     "name": "stdout",
     "output_type": "stream",
     "text": [
      "4.9 minutes to load and write data.\n"
     ]
    }
   ],
   "source": [
    "print(\"%.1f minutes to load and write data.\"%((time()-t)/60))"
   ]
  }
 ],
 "metadata": {
  "kernelspec": {
   "display_name": "Python 3",
   "language": "python",
   "name": "python3"
  },
  "language_info": {
   "codemirror_mode": {
    "name": "ipython",
    "version": 3
   },
   "file_extension": ".py",
   "mimetype": "text/x-python",
   "name": "python",
   "nbconvert_exporter": "python",
   "pygments_lexer": "ipython3",
   "version": "3.4.3"
  }
 },
 "nbformat": 4,
 "nbformat_minor": 0
}
